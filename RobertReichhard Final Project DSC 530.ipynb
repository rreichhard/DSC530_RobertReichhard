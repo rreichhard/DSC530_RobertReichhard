{
 "cells": [
  {
   "cell_type": "code",
   "execution_count": 157,
   "metadata": {},
   "outputs": [],
   "source": [
    "# Import necessary libraries\n",
    "import numpy as np\n",
    "import pandas as pd\n",
    "import matplotlib.pyplot as plt\n",
    "import sys\n",
    "import thinkstats2\n",
    "import thinkplot\n",
    "import math\n",
    "import statsmodels.formula.api as smf\n",
    "import seaborn as sns"
   ]
  },
  {
   "cell_type": "code",
   "execution_count": 158,
   "metadata": {},
   "outputs": [],
   "source": [
    "# define functions that for some reason didn't otherwise work with the import in the cell above\n",
    "\n",
    "def Cov(xs, ys, meanx=None, meany=None):\n",
    "    \"\"\"Computes Cov(X, Y).\n",
    "\n",
    "    Args:\n",
    "        xs: sequence of values\n",
    "        ys: sequence of values\n",
    "        meanx: optional float mean of xs\n",
    "        meany: optional float mean of ys\n",
    "\n",
    "    Returns:\n",
    "        Cov(X, Y)\n",
    "    \"\"\"\n",
    "    xs = np.asarray(xs)\n",
    "    ys = np.asarray(ys)\n",
    "\n",
    "    if meanx is None:\n",
    "        meanx = np.mean(xs)\n",
    "    if meany is None:\n",
    "        meany = np.mean(ys)\n",
    "\n",
    "    cov = np.dot(xs-meanx, ys-meany) / len(xs)\n",
    "    return cov\n",
    "\n",
    "\n",
    "def Corr(xs, ys):\n",
    "    \"\"\"Computes Corr(X, Y).\n",
    "\n",
    "    Args:\n",
    "        xs: sequence of values\n",
    "        ys: sequence of values\n",
    "\n",
    "    Returns:\n",
    "        Corr(X, Y)\n",
    "    \"\"\"\n",
    "    xs = np.asarray(xs)\n",
    "    ys = np.asarray(ys)\n",
    "\n",
    "    meanx, varx = MeanVar(xs)\n",
    "    meany, vary = MeanVar(ys)\n",
    "\n",
    "    corr = Cov(xs, ys, meanx, meany) / math.sqrt(varx * vary)\n",
    "\n",
    "    return corr\n",
    "\n",
    "def MeanVar(xs, ddof=0):\n",
    "    \"\"\"Computes mean and variance.\n",
    "\n",
    "    Based on http://stackoverflow.com/questions/19391149/\n",
    "    numpy-mean-and-variance-from-single-function\n",
    "\n",
    "    xs: sequence of values\n",
    "    ddof: delta degrees of freedom\n",
    "    \n",
    "    returns: pair of float, mean and var\n",
    "    \"\"\"\n",
    "    xs = np.asarray(xs)\n",
    "    mean = xs.mean()\n",
    "    s2 = Var(xs, mean, ddof)\n",
    "    return mean, s2\n",
    "\n",
    "def Var(xs, mu=None, ddof=0):\n",
    "    \"\"\"Computes variance.\n",
    "\n",
    "    xs: sequence of values\n",
    "    mu: option known mean\n",
    "    ddof: delta degrees of freedom\n",
    "\n",
    "    returns: float\n",
    "    \"\"\"\n",
    "    xs = np.asarray(xs)\n",
    "\n",
    "    if mu is None:\n",
    "        mu = xs.mean()\n",
    "\n",
    "    ds = xs - mu\n",
    "    return np.dot(ds, ds) / (len(xs) - ddof)\n",
    "\n",
    "class DiffMeansPermute(thinkstats2.HypothesisTest):\n",
    "\n",
    "    def TestStatistic(self, data):\n",
    "        group1, group2 = data\n",
    "        test_stat = abs(group1.mean() - group2.mean())\n",
    "        return test_stat\n",
    "\n",
    "    def MakeModel(self):\n",
    "        group1, group2 = self.data\n",
    "        self.n, self.m = len(group1), len(group2)\n",
    "        self.pool = np.hstack((group1, group2))\n",
    "\n",
    "    def RunModel(self):\n",
    "        np.random.shuffle(self.pool)\n",
    "        data = self.pool[:self.n], self.pool[self.n:]\n",
    "        return data"
   ]
  },
  {
   "cell_type": "code",
   "execution_count": 159,
   "metadata": {},
   "outputs": [],
   "source": [
    "# Import the dataset that was saved from https://www2.census.gov/programs-surveys/acs/data/pums/2018/1-Year/\n",
    "df = pd.read_csv(r'C:\\Users\\rreichhard.PAYPALCORP\\Desktop\\Bellevue\\DSC 530\\Final Project\\Arizona Community Survey.csv')"
   ]
  },
  {
   "cell_type": "code",
   "execution_count": 160,
   "metadata": {},
   "outputs": [],
   "source": [
    "# Read the data into a dataframe & keeping only the desired columns\n",
    "# Apply the adjustment factor to the earnings attribute to account for current dollars\n",
    "# Clean the data by dropping NA's and any rows where no income was reported\n",
    "\n",
    "data = pd.DataFrame(df, columns=['ADJINC', 'AGEP', 'MAR', 'SCHL', 'OCCP', 'PERNP'])\n",
    "data['ADJINC_PERNP'] = data.ADJINC * data.PERNP / 1000000\n",
    "clean_data = data[data.ADJINC_PERNP != 0]\n",
    "clean_data = clean_data.dropna()"
   ]
  },
  {
   "cell_type": "code",
   "execution_count": 161,
   "metadata": {},
   "outputs": [
    {
     "data": {
      "text/html": [
       "<div>\n",
       "<style scoped>\n",
       "    .dataframe tbody tr th:only-of-type {\n",
       "        vertical-align: middle;\n",
       "    }\n",
       "\n",
       "    .dataframe tbody tr th {\n",
       "        vertical-align: top;\n",
       "    }\n",
       "\n",
       "    .dataframe thead th {\n",
       "        text-align: right;\n",
       "    }\n",
       "</style>\n",
       "<table border=\"1\" class=\"dataframe\">\n",
       "  <thead>\n",
       "    <tr style=\"text-align: right;\">\n",
       "      <th></th>\n",
       "      <th>ADJINC</th>\n",
       "      <th>AGEP</th>\n",
       "      <th>MAR</th>\n",
       "      <th>SCHL</th>\n",
       "      <th>OCCP</th>\n",
       "      <th>PERNP</th>\n",
       "      <th>ADJINC_PERNP</th>\n",
       "    </tr>\n",
       "  </thead>\n",
       "  <tbody>\n",
       "    <tr>\n",
       "      <th>4</th>\n",
       "      <td>1013097</td>\n",
       "      <td>19</td>\n",
       "      <td>5</td>\n",
       "      <td>16.0</td>\n",
       "      <td>4150.0</td>\n",
       "      <td>2500.0</td>\n",
       "      <td>2532.7425</td>\n",
       "    </tr>\n",
       "    <tr>\n",
       "      <th>5</th>\n",
       "      <td>1013097</td>\n",
       "      <td>30</td>\n",
       "      <td>1</td>\n",
       "      <td>19.0</td>\n",
       "      <td>7840.0</td>\n",
       "      <td>30000.0</td>\n",
       "      <td>30392.9100</td>\n",
       "    </tr>\n",
       "    <tr>\n",
       "      <th>7</th>\n",
       "      <td>1013097</td>\n",
       "      <td>45</td>\n",
       "      <td>4</td>\n",
       "      <td>19.0</td>\n",
       "      <td>6355.0</td>\n",
       "      <td>12000.0</td>\n",
       "      <td>12157.1640</td>\n",
       "    </tr>\n",
       "    <tr>\n",
       "      <th>11</th>\n",
       "      <td>1013097</td>\n",
       "      <td>21</td>\n",
       "      <td>5</td>\n",
       "      <td>16.0</td>\n",
       "      <td>8140.0</td>\n",
       "      <td>98000.0</td>\n",
       "      <td>99283.5060</td>\n",
       "    </tr>\n",
       "    <tr>\n",
       "      <th>12</th>\n",
       "      <td>1013097</td>\n",
       "      <td>20</td>\n",
       "      <td>5</td>\n",
       "      <td>16.0</td>\n",
       "      <td>2016.0</td>\n",
       "      <td>5000.0</td>\n",
       "      <td>5065.4850</td>\n",
       "    </tr>\n",
       "  </tbody>\n",
       "</table>\n",
       "</div>"
      ],
      "text/plain": [
       "     ADJINC  AGEP MAR  SCHL    OCCP    PERNP  ADJINC_PERNP\n",
       "4   1013097    19   5  16.0  4150.0   2500.0     2532.7425\n",
       "5   1013097    30   1  19.0  7840.0  30000.0    30392.9100\n",
       "7   1013097    45   4  19.0  6355.0  12000.0    12157.1640\n",
       "11  1013097    21   5  16.0  8140.0  98000.0    99283.5060\n",
       "12  1013097    20   5  16.0  2016.0   5000.0     5065.4850"
      ]
     },
     "execution_count": 161,
     "metadata": {},
     "output_type": "execute_result"
    }
   ],
   "source": [
    "# Adjusting the data to be strings as needed\n",
    "clean_data['SCHL']= clean_data.SCHL.astype(str)\n",
    "clean_data['MAR']= clean_data.MAR.astype(str)\n",
    "clean_data.head()\n",
    "# I saved a csv of this to my machine to for safe keeping\n",
    "# clean_data.to_csv(r'C:\\Users\\rreichhard.PAYPALCORP\\Desktop\\Bellevue\\DSC 530\\Final Project\\Clean_Data.csv')"
   ]
  },
  {
   "cell_type": "code",
   "execution_count": 162,
   "metadata": {},
   "outputs": [
    {
     "data": {
      "image/png": "[encoded data removed]",
      "text/plain": [
       "<Figure size 432x288 with 1 Axes>"
      ]
     },
     "metadata": {
      "needs_background": "light"
     },
     "output_type": "display_data"
    },
    {
     "data": {
      "text/plain": [
       "<Figure size 576x432 with 0 Axes>"
      ]
     },
     "metadata": {},
     "output_type": "display_data"
    }
   ],
   "source": [
    "# Histogram of Respondent Age\n",
    "hist = thinkstats2.Hist(clean_data.AGEP, label='age')\n",
    "thinkplot.Hist(hist)\n",
    "thinkplot.Show(xlabel='age', ylabel='frequency')"
   ]
  },
  {
   "cell_type": "code",
   "execution_count": 163,
   "metadata": {},
   "outputs": [
    {
     "data": {
      "image/png": "[encoded data removed]",
      "text/plain": [
       "<Figure size 432x288 with 1 Axes>"
      ]
     },
     "metadata": {
      "needs_background": "light"
     },
     "output_type": "display_data"
    },
    {
     "data": {
      "text/plain": [
       "<Figure size 576x432 with 0 Axes>"
      ]
     },
     "metadata": {},
     "output_type": "display_data"
    }
   ],
   "source": [
    "# Histogram of Respondent Marital Status\n",
    "# 1 - Married, 2 - Widowed, 3 - Divorced, 4 - Separated, 5 - Single/Never married\n",
    "hist = thinkstats2.Hist(clean_data.MAR, label='marital status')\n",
    "thinkplot.Hist(hist)\n",
    "thinkplot.Show(xlabel='marital status', ylabel='frequency')"
   ]
  },
  {
   "cell_type": "code",
   "execution_count": 164,
   "metadata": {},
   "outputs": [
    {
     "data": {
      "text/plain": [
       "<matplotlib.axes._subplots.AxesSubplot at 0x1a80e0da128>"
      ]
     },
     "execution_count": 164,
     "metadata": {},
     "output_type": "execute_result"
    },
    {
     "data": {
      "image/png": "[encoded data removed]",
      "text/plain": [
       "<Figure size 432x288 with 1 Axes>"
      ]
     },
     "metadata": {
      "needs_background": "light"
     },
     "output_type": "display_data"
    }
   ],
   "source": [
    "# Histogram of Respondent Income adjusted for inflation\n",
    "clean_data.ADJINC_PERNP.plot.hist(bins=100)"
   ]
  },
  {
   "cell_type": "code",
   "execution_count": 165,
   "metadata": {},
   "outputs": [],
   "source": [
    "# Calculating & printing the mean, mode, & variance of age & earnings\n",
    "agep_mean = clean_data.AGEP.mean()\n",
    "agep_mode = clean_data.AGEP.mode()\n",
    "agep_spread = clean_data.AGEP.var()\n",
    "earn_mean = clean_data.ADJINC_PERNP.mean()\n",
    "earn_mode = clean_data.ADJINC_PERNP.mode()\n",
    "earn_spread = clean_data.ADJINC_PERNP.var()"
   ]
  },
  {
   "cell_type": "code",
   "execution_count": 166,
   "metadata": {},
   "outputs": [
    {
     "name": "stdout",
     "output_type": "stream",
     "text": [
      "For age, the mean is: 42.935737939676 , the mode is: 0    54\n",
      "dtype: int64 , and the spread is: 237.93094992308593\n"
     ]
    }
   ],
   "source": [
    "print('For age, the mean is:', agep_mean, ', the mode is:', agep_mode, ', and the spread is:', agep_spread)"
   ]
  },
  {
   "cell_type": "code",
   "execution_count": 167,
   "metadata": {},
   "outputs": [
    {
     "name": "stdout",
     "output_type": "stream",
     "text": [
      "For total individual earnings, the mean is: 48178.35549535591 , the mode is: 0    30392.91\n",
      "dtype: float64 , and the spread is: 3344493984.389552\n"
     ]
    }
   ],
   "source": [
    "print('For total individual earnings, the mean is:', earn_mean, ', the mode is:', earn_mode, ', and the spread is:', earn_spread)"
   ]
  },
  {
   "cell_type": "code",
   "execution_count": 168,
   "metadata": {},
   "outputs": [
    {
     "data": {
      "text/html": [
       "<div>\n",
       "<style scoped>\n",
       "    .dataframe tbody tr th:only-of-type {\n",
       "        vertical-align: middle;\n",
       "    }\n",
       "\n",
       "    .dataframe tbody tr th {\n",
       "        vertical-align: top;\n",
       "    }\n",
       "\n",
       "    .dataframe thead th {\n",
       "        text-align: right;\n",
       "    }\n",
       "</style>\n",
       "<table border=\"1\" class=\"dataframe\">\n",
       "  <thead>\n",
       "    <tr style=\"text-align: right;\">\n",
       "      <th></th>\n",
       "      <th>MAR</th>\n",
       "      <th>percentage</th>\n",
       "    </tr>\n",
       "  </thead>\n",
       "  <tbody>\n",
       "    <tr>\n",
       "      <th>1</th>\n",
       "      <td>17254</td>\n",
       "      <td>51.475283</td>\n",
       "    </tr>\n",
       "    <tr>\n",
       "      <th>5</th>\n",
       "      <td>10818</td>\n",
       "      <td>32.274233</td>\n",
       "    </tr>\n",
       "    <tr>\n",
       "      <th>3</th>\n",
       "      <td>4174</td>\n",
       "      <td>12.452639</td>\n",
       "    </tr>\n",
       "    <tr>\n",
       "      <th>2</th>\n",
       "      <td>714</td>\n",
       "      <td>2.130135</td>\n",
       "    </tr>\n",
       "    <tr>\n",
       "      <th>4</th>\n",
       "      <td>559</td>\n",
       "      <td>1.667711</td>\n",
       "    </tr>\n",
       "  </tbody>\n",
       "</table>\n",
       "</div>"
      ],
      "text/plain": [
       "     MAR  percentage\n",
       "1  17254   51.475283\n",
       "5  10818   32.274233\n",
       "3   4174   12.452639\n",
       "2    714    2.130135\n",
       "4    559    1.667711"
      ]
     },
     "execution_count": 168,
     "metadata": {},
     "output_type": "execute_result"
    }
   ],
   "source": [
    "# For Marital status, I wanted to display the frequency via histogram as well as percentage of total\n",
    "mar_count = pd.value_counts(clean_data.MAR)\n",
    "percentage_list = []\n",
    "for value in mar_count:\n",
    "    percentage = value / len(clean_data.MAR)*100\n",
    "    percentage_list.append(percentage)\n",
    "\n",
    "mar_count=mar_count.to_frame()\n",
    "mar_count['percentage'] = percentage_list\n",
    "mar_count"
   ]
  },
  {
   "cell_type": "code",
   "execution_count": 169,
   "metadata": {},
   "outputs": [
    {
     "data": {
      "image/png": "[encoded data removed]",
      "text/plain": [
       "<Figure size 432x288 with 1 Axes>"
      ]
     },
     "metadata": {
      "needs_background": "light"
     },
     "output_type": "display_data"
    }
   ],
   "source": [
    "# For Educational Attainment, I wanted to display the frequency via histogram as well as percentage of total\n",
    "schl_count = pd.value_counts(clean_data.SCHL)\n",
    "percentage_list = []\n",
    "for value in schl_count:\n",
    "    percentage = value / len(clean_data.SCHL)*100\n",
    "    percentage_list.append(percentage)\n",
    "\n",
    "schl_count=schl_count.to_frame()\n",
    "schl_count[:10].plot(kind='bar')\n",
    "schl_count['percentage'] = percentage_list\n"
   ]
  },
  {
   "cell_type": "code",
   "execution_count": 170,
   "metadata": {},
   "outputs": [
    {
     "data": {
      "text/html": [
       "<div>\n",
       "<style scoped>\n",
       "    .dataframe tbody tr th:only-of-type {\n",
       "        vertical-align: middle;\n",
       "    }\n",
       "\n",
       "    .dataframe tbody tr th {\n",
       "        vertical-align: top;\n",
       "    }\n",
       "\n",
       "    .dataframe thead th {\n",
       "        text-align: right;\n",
       "    }\n",
       "</style>\n",
       "<table border=\"1\" class=\"dataframe\">\n",
       "  <thead>\n",
       "    <tr style=\"text-align: right;\">\n",
       "      <th></th>\n",
       "      <th>SCHL</th>\n",
       "      <th>percentage</th>\n",
       "    </tr>\n",
       "  </thead>\n",
       "  <tbody>\n",
       "    <tr>\n",
       "      <th>21.0</th>\n",
       "      <td>6866</td>\n",
       "      <td>20.483905</td>\n",
       "    </tr>\n",
       "    <tr>\n",
       "      <th>16.0</th>\n",
       "      <td>6215</td>\n",
       "      <td>18.541723</td>\n",
       "    </tr>\n",
       "    <tr>\n",
       "      <th>19.0</th>\n",
       "      <td>6004</td>\n",
       "      <td>17.912229</td>\n",
       "    </tr>\n",
       "    <tr>\n",
       "      <th>20.0</th>\n",
       "      <td>3119</td>\n",
       "      <td>9.305170</td>\n",
       "    </tr>\n",
       "    <tr>\n",
       "      <th>22.0</th>\n",
       "      <td>2930</td>\n",
       "      <td>8.741311</td>\n",
       "    </tr>\n",
       "    <tr>\n",
       "      <th>18.0</th>\n",
       "      <td>2691</td>\n",
       "      <td>8.028282</td>\n",
       "    </tr>\n",
       "    <tr>\n",
       "      <th>17.0</th>\n",
       "      <td>1220</td>\n",
       "      <td>3.639727</td>\n",
       "    </tr>\n",
       "    <tr>\n",
       "      <th>14.0</th>\n",
       "      <td>818</td>\n",
       "      <td>2.440407</td>\n",
       "    </tr>\n",
       "    <tr>\n",
       "      <th>15.0</th>\n",
       "      <td>695</td>\n",
       "      <td>2.073451</td>\n",
       "    </tr>\n",
       "    <tr>\n",
       "      <th>23.0</th>\n",
       "      <td>669</td>\n",
       "      <td>1.995883</td>\n",
       "    </tr>\n",
       "  </tbody>\n",
       "</table>\n",
       "</div>"
      ],
      "text/plain": [
       "      SCHL  percentage\n",
       "21.0  6866   20.483905\n",
       "16.0  6215   18.541723\n",
       "19.0  6004   17.912229\n",
       "20.0  3119    9.305170\n",
       "22.0  2930    8.741311\n",
       "18.0  2691    8.028282\n",
       "17.0  1220    3.639727\n",
       "14.0   818    2.440407\n",
       "15.0   695    2.073451\n",
       "23.0   669    1.995883"
      ]
     },
     "execution_count": 170,
     "metadata": {},
     "output_type": "execute_result"
    }
   ],
   "source": [
    "schl_count[:10]"
   ]
  },
  {
   "cell_type": "code",
   "execution_count": 171,
   "metadata": {},
   "outputs": [
    {
     "data": {
      "image/png": "[encoded data removed]",
      "text/plain": [
       "<Figure size 432x288 with 1 Axes>"
      ]
     },
     "metadata": {
      "needs_background": "light"
     },
     "output_type": "display_data"
    }
   ],
   "source": [
    "# For Occupation, I wanted to display the frequency via histogram as well as percentage of total\n",
    "occp_count = pd.value_counts(clean_data.OCCP)\n",
    "percentage_list = []\n",
    "for value in occp_count:\n",
    "    percentage = value / len(clean_data.OCCP)*100\n",
    "    percentage_list.append(percentage)\n",
    "\n",
    "occp_count=occp_count.to_frame()\n",
    "occp_count[:10].plot(kind='bar')\n",
    "occp_count['percentage'] = percentage_list"
   ]
  },
  {
   "cell_type": "code",
   "execution_count": 172,
   "metadata": {},
   "outputs": [
    {
     "data": {
      "text/html": [
       "<div>\n",
       "<style scoped>\n",
       "    .dataframe tbody tr th:only-of-type {\n",
       "        vertical-align: middle;\n",
       "    }\n",
       "\n",
       "    .dataframe tbody tr th {\n",
       "        vertical-align: top;\n",
       "    }\n",
       "\n",
       "    .dataframe thead th {\n",
       "        text-align: right;\n",
       "    }\n",
       "</style>\n",
       "<table border=\"1\" class=\"dataframe\">\n",
       "  <thead>\n",
       "    <tr style=\"text-align: right;\">\n",
       "      <th></th>\n",
       "      <th>OCCP</th>\n",
       "      <th>percentage</th>\n",
       "    </tr>\n",
       "  </thead>\n",
       "  <tbody>\n",
       "    <tr>\n",
       "      <th>5240.0</th>\n",
       "      <td>944</td>\n",
       "      <td>2.816313</td>\n",
       "    </tr>\n",
       "    <tr>\n",
       "      <th>440.0</th>\n",
       "      <td>817</td>\n",
       "      <td>2.437424</td>\n",
       "    </tr>\n",
       "    <tr>\n",
       "      <th>2310.0</th>\n",
       "      <td>779</td>\n",
       "      <td>2.324055</td>\n",
       "    </tr>\n",
       "    <tr>\n",
       "      <th>4760.0</th>\n",
       "      <td>731</td>\n",
       "      <td>2.180853</td>\n",
       "    </tr>\n",
       "    <tr>\n",
       "      <th>4720.0</th>\n",
       "      <td>727</td>\n",
       "      <td>2.168919</td>\n",
       "    </tr>\n",
       "    <tr>\n",
       "      <th>9130.0</th>\n",
       "      <td>623</td>\n",
       "      <td>1.858647</td>\n",
       "    </tr>\n",
       "    <tr>\n",
       "      <th>3255.0</th>\n",
       "      <td>623</td>\n",
       "      <td>1.858647</td>\n",
       "    </tr>\n",
       "    <tr>\n",
       "      <th>4700.0</th>\n",
       "      <td>603</td>\n",
       "      <td>1.798980</td>\n",
       "    </tr>\n",
       "    <tr>\n",
       "      <th>9620.0</th>\n",
       "      <td>571</td>\n",
       "      <td>1.703511</td>\n",
       "    </tr>\n",
       "    <tr>\n",
       "      <th>4220.0</th>\n",
       "      <td>569</td>\n",
       "      <td>1.697545</td>\n",
       "    </tr>\n",
       "    <tr>\n",
       "      <th>4020.0</th>\n",
       "      <td>521</td>\n",
       "      <td>1.554342</td>\n",
       "    </tr>\n",
       "    <tr>\n",
       "      <th>5740.0</th>\n",
       "      <td>491</td>\n",
       "      <td>1.464841</td>\n",
       "    </tr>\n",
       "    <tr>\n",
       "      <th>4110.0</th>\n",
       "      <td>448</td>\n",
       "      <td>1.336555</td>\n",
       "    </tr>\n",
       "    <tr>\n",
       "      <th>6260.0</th>\n",
       "      <td>414</td>\n",
       "      <td>1.235120</td>\n",
       "    </tr>\n",
       "    <tr>\n",
       "      <th>800.0</th>\n",
       "      <td>407</td>\n",
       "      <td>1.214237</td>\n",
       "    </tr>\n",
       "    <tr>\n",
       "      <th>3602.0</th>\n",
       "      <td>400</td>\n",
       "      <td>1.193353</td>\n",
       "    </tr>\n",
       "    <tr>\n",
       "      <th>4251.0</th>\n",
       "      <td>387</td>\n",
       "      <td>1.154569</td>\n",
       "    </tr>\n",
       "    <tr>\n",
       "      <th>9645.0</th>\n",
       "      <td>345</td>\n",
       "      <td>1.029267</td>\n",
       "    </tr>\n",
       "    <tr>\n",
       "      <th>4230.0</th>\n",
       "      <td>329</td>\n",
       "      <td>0.981533</td>\n",
       "    </tr>\n",
       "    <tr>\n",
       "      <th>4920.0</th>\n",
       "      <td>322</td>\n",
       "      <td>0.960649</td>\n",
       "    </tr>\n",
       "    <tr>\n",
       "      <th>5860.0</th>\n",
       "      <td>301</td>\n",
       "      <td>0.897998</td>\n",
       "    </tr>\n",
       "    <tr>\n",
       "      <th>2205.0</th>\n",
       "      <td>300</td>\n",
       "      <td>0.895015</td>\n",
       "    </tr>\n",
       "    <tr>\n",
       "      <th>5400.0</th>\n",
       "      <td>299</td>\n",
       "      <td>0.892031</td>\n",
       "    </tr>\n",
       "    <tr>\n",
       "      <th>5000.0</th>\n",
       "      <td>292</td>\n",
       "      <td>0.871148</td>\n",
       "    </tr>\n",
       "    <tr>\n",
       "      <th>4850.0</th>\n",
       "      <td>292</td>\n",
       "      <td>0.871148</td>\n",
       "    </tr>\n",
       "    <tr>\n",
       "      <th>4600.0</th>\n",
       "      <td>287</td>\n",
       "      <td>0.856231</td>\n",
       "    </tr>\n",
       "    <tr>\n",
       "      <th>5120.0</th>\n",
       "      <td>285</td>\n",
       "      <td>0.850264</td>\n",
       "    </tr>\n",
       "    <tr>\n",
       "      <th>4710.0</th>\n",
       "      <td>269</td>\n",
       "      <td>0.802530</td>\n",
       "    </tr>\n",
       "    <tr>\n",
       "      <th>10.0</th>\n",
       "      <td>263</td>\n",
       "      <td>0.784630</td>\n",
       "    </tr>\n",
       "  </tbody>\n",
       "</table>\n",
       "</div>"
      ],
      "text/plain": [
       "        OCCP  percentage\n",
       "5240.0   944    2.816313\n",
       "440.0    817    2.437424\n",
       "2310.0   779    2.324055\n",
       "4760.0   731    2.180853\n",
       "4720.0   727    2.168919\n",
       "9130.0   623    1.858647\n",
       "3255.0   623    1.858647\n",
       "4700.0   603    1.798980\n",
       "9620.0   571    1.703511\n",
       "4220.0   569    1.697545\n",
       "4020.0   521    1.554342\n",
       "5740.0   491    1.464841\n",
       "4110.0   448    1.336555\n",
       "6260.0   414    1.235120\n",
       "800.0    407    1.214237\n",
       "3602.0   400    1.193353\n",
       "4251.0   387    1.154569\n",
       "9645.0   345    1.029267\n",
       "4230.0   329    0.981533\n",
       "4920.0   322    0.960649\n",
       "5860.0   301    0.897998\n",
       "2205.0   300    0.895015\n",
       "5400.0   299    0.892031\n",
       "5000.0   292    0.871148\n",
       "4850.0   292    0.871148\n",
       "4600.0   287    0.856231\n",
       "5120.0   285    0.850264\n",
       "4710.0   269    0.802530\n",
       "10.0     263    0.784630"
      ]
     },
     "execution_count": 172,
     "metadata": {},
     "output_type": "execute_result"
    }
   ],
   "source": [
    "occp_count[:10]"
   ]
  },
  {
   "cell_type": "code",
   "execution_count": 173,
   "metadata": {},
   "outputs": [],
   "source": [
    "# Adjusting the occupation code to be read as an integer\n",
    "# Then creating a new variable mapping each occupation by count and if less than 15, it got coded as '-999'\n",
    "clean_data['OCCP'] = clean_data['OCCP'].astype(int) \n",
    "clean_data['occp_1'] = clean_data.OCCP.map(dict(zip(clean_data['OCCP'].value_counts().index, range(1, len(clean_data.OCCP.value_counts().index)+1))))\n",
    "clean_data.head(16)\n",
    "clean_data.sort_values('occp_1',ascending=1)\n",
    "clean_data['occp_new']=clean_data['OCCP']\n",
    "clean_data.loc[clean_data['occp_1']>15, 'occp_new']=-999"
   ]
  },
  {
   "cell_type": "code",
   "execution_count": 174,
   "metadata": {},
   "outputs": [
    {
     "data": {
      "text/plain": [
       "<matplotlib.axes._subplots.AxesSubplot at 0x1a878ddc668>"
      ]
     },
     "execution_count": 174,
     "metadata": {},
     "output_type": "execute_result"
    },
    {
     "data": {
      "image/png": "[encoded data removed]",
      "text/plain": [
       "<Figure size 432x288 with 1 Axes>"
      ]
     },
     "metadata": {
      "needs_background": "light"
     },
     "output_type": "display_data"
    }
   ],
   "source": [
    "# Box & Whisker Plot for Occupation\n",
    "clean_data.occp_new.value_counts()\n",
    "sns.boxplot(y='ADJINC_PERNP',x='occp_new',data=clean_data)"
   ]
  },
  {
   "cell_type": "code",
   "execution_count": 175,
   "metadata": {},
   "outputs": [],
   "source": [
    "# generate a PMF comparing the incomes of respondents with a bachelor's degree (value of 21 for SCHL) \n",
    "# and those with a high school diploma (value of 16 for SCHL)\n",
    "\n",
    "bach = clean_data[clean_data.SCHL == '21.0']\n",
    "hsdip = clean_data[clean_data.SCHL == '16.0']\n",
    "mast = clean_data[clean_data.SCHL == '22.0']\n",
    "bach_pmf = thinkstats2.Pmf(bach.ADJINC_PERNP, label='bachelor earnings')"
   ]
  },
  {
   "cell_type": "code",
   "execution_count": 176,
   "metadata": {},
   "outputs": [
    {
     "data": {
      "image/png": "[encoded data removed]",
      "text/plain": [
       "<Figure size 432x288 with 1 Axes>"
      ]
     },
     "metadata": {
      "needs_background": "light"
     },
     "output_type": "display_data"
    }
   ],
   "source": [
    "thinkplot.Pmf(bach_pmf)\n",
    "thinkplot.Config(xlabel='bachelor\\'s earnings', ylabel='PMF')"
   ]
  },
  {
   "cell_type": "code",
   "execution_count": 177,
   "metadata": {},
   "outputs": [
    {
     "data": {
      "image/png": "[encoded data removed]",
      "text/plain": [
       "<Figure size 432x288 with 1 Axes>"
      ]
     },
     "metadata": {
      "needs_background": "light"
     },
     "output_type": "display_data"
    }
   ],
   "source": [
    "hsdip_pmf = thinkstats2.Pmf(hsdip.ADJINC_PERNP, label='hs diploma earnings')\n",
    "thinkplot.Pmf(hsdip_pmf)\n",
    "thinkplot.Config(xlabel='hs diploma earnings', ylabel='PMF')"
   ]
  },
  {
   "cell_type": "code",
   "execution_count": 178,
   "metadata": {},
   "outputs": [
    {
     "data": {
      "image/png": "[encoded data removed]",
      "text/plain": [
       "<Figure size 432x288 with 1 Axes>"
      ]
     },
     "metadata": {
      "needs_background": "light"
     },
     "output_type": "display_data"
    }
   ],
   "source": [
    "# PMF comparing the earnings of respondents with a bachelor's degree and respondents with a hs diploma\n",
    "thinkplot.Pmfs([hsdip_pmf, bach_pmf])\n",
    "thinkplot.Config(xlabel='Earnings in USD', ylabel='PMF')"
   ]
  },
  {
   "cell_type": "code",
   "execution_count": 179,
   "metadata": {},
   "outputs": [
    {
     "data": {
      "image/png": "[encoded data removed]",
      "text/plain": [
       "<Figure size 432x288 with 1 Axes>"
      ]
     },
     "metadata": {
      "needs_background": "light"
     },
     "output_type": "display_data"
    }
   ],
   "source": [
    "# PMF comparing the earnings of respondents with a bachelor's degree and respondents with a master's degree\n",
    "mast_pmf = thinkstats2.Pmf(mast.ADJINC_PERNP, label='master\\'s earnings')\n",
    "thinkplot.Pmfs([bach_pmf, mast_pmf])\n",
    "thinkplot.Config(xlabel='Earnings in USD', ylabel='PMF')"
   ]
  },
  {
   "cell_type": "code",
   "execution_count": 180,
   "metadata": {},
   "outputs": [
    {
     "data": {
      "image/png": "[encoded data removed]",
      "text/plain": [
       "<Figure size 432x288 with 1 Axes>"
      ]
     },
     "metadata": {
      "needs_background": "light"
     },
     "output_type": "display_data"
    },
    {
     "data": {
      "text/plain": [
       "<Figure size 576x432 with 0 Axes>"
      ]
     },
     "metadata": {},
     "output_type": "display_data"
    }
   ],
   "source": [
    "cdf = thinkstats2.Cdf(clean_data.ADJINC_PERNP, label='total earnings')\n",
    "thinkplot.Cdf(cdf)\n",
    "thinkplot.Show(xlabel='dollars', ylabel='CDF')"
   ]
  },
  {
   "cell_type": "code",
   "execution_count": 181,
   "metadata": {
    "scrolled": true
   },
   "outputs": [
    {
     "data": {
      "image/png": "[encoded data removed]",
      "text/plain": [
       "<Figure size 432x288 with 1 Axes>"
      ]
     },
     "metadata": {
      "needs_background": "light"
     },
     "output_type": "display_data"
    }
   ],
   "source": [
    "# Pareto distribution of income\n",
    "x = np.linspace(1, 20000,1000)\n",
    "y = 1-(x/2000)**(-.1)\n",
    "plt.plot(x,y, 'r')\n",
    "plt.show()"
   ]
  },
  {
   "cell_type": "code",
   "execution_count": 183,
   "metadata": {},
   "outputs": [],
   "source": [
    "# Changing the educational attainment variable to be read as a float\n",
    "clean_data['SCHL']= clean_data.SCHL.astype(float)"
   ]
  },
  {
   "cell_type": "code",
   "execution_count": 184,
   "metadata": {},
   "outputs": [],
   "source": [
    "# Creating samples of adjusted earnings, age, and education for the scatter plots\n",
    "sample = thinkstats2.SampleRows(clean_data, 5000)\n",
    "pernp = sample.ADJINC_PERNP\n",
    "sample_age = sample.AGEP\n",
    "schl = sample.SCHL"
   ]
  },
  {
   "cell_type": "code",
   "execution_count": 200,
   "metadata": {},
   "outputs": [
    {
     "data": {
      "image/png": "[encoded data removed]",
      "text/plain": [
       "<Figure size 432x288 with 1 Axes>"
      ]
     },
     "metadata": {
      "needs_background": "light"
     },
     "output_type": "display_data"
    },
    {
     "data": {
      "text/plain": [
       "<Figure size 576x432 with 0 Axes>"
      ]
     },
     "metadata": {},
     "output_type": "display_data"
    }
   ],
   "source": [
    "# Scatterplot of age vs adjusted earnings\n",
    "thinkplot.Scatter(sample_age, pernp, alpha=.1)\n",
    "thinkplot.Show(ylabel='Income', xlabel='Age')"
   ]
  },
  {
   "cell_type": "code",
   "execution_count": 186,
   "metadata": {},
   "outputs": [
    {
     "data": {
      "image/png": "[encoded data removed]",
      "text/plain": [
       "<Figure size 432x288 with 1 Axes>"
      ]
     },
     "metadata": {
      "needs_background": "light"
     },
     "output_type": "display_data"
    },
    {
     "data": {
      "text/plain": [
       "<Figure size 576x432 with 0 Axes>"
      ]
     },
     "metadata": {},
     "output_type": "display_data"
    }
   ],
   "source": [
    "# Scatterplot of education vs adjusted earnings\n",
    "thinkplot.Scatter(schl, pernp, alpha=.2)\n",
    "thinkplot.Show(ylabel='Income', xlabel='Educational Attainment')"
   ]
  },
  {
   "cell_type": "code",
   "execution_count": 187,
   "metadata": {},
   "outputs": [
    {
     "data": {
      "text/plain": [
       "181284.04250392158"
      ]
     },
     "execution_count": 187,
     "metadata": {},
     "output_type": "execute_result"
    }
   ],
   "source": [
    "# Covariance & Pearson's Correlation for both scatter plots\n",
    "Cov(sample_age, pernp)"
   ]
  },
  {
   "cell_type": "code",
   "execution_count": 188,
   "metadata": {},
   "outputs": [
    {
     "data": {
      "text/plain": [
       "0.1987079921150039"
      ]
     },
     "execution_count": 188,
     "metadata": {},
     "output_type": "execute_result"
    }
   ],
   "source": [
    "Corr(pernp, sample_age)"
   ]
  },
  {
   "cell_type": "code",
   "execution_count": 189,
   "metadata": {},
   "outputs": [
    {
     "data": {
      "text/plain": [
       "50390.10164914594"
      ]
     },
     "execution_count": 189,
     "metadata": {},
     "output_type": "execute_result"
    }
   ],
   "source": [
    "Cov(pernp, schl)"
   ]
  },
  {
   "cell_type": "code",
   "execution_count": 190,
   "metadata": {},
   "outputs": [
    {
     "data": {
      "text/plain": [
       "0.2711966977518842"
      ]
     },
     "execution_count": 190,
     "metadata": {},
     "output_type": "execute_result"
    }
   ],
   "source": [
    "Corr(pernp, schl)"
   ]
  },
  {
   "cell_type": "code",
   "execution_count": 191,
   "metadata": {},
   "outputs": [
    {
     "data": {
      "text/html": [
       "<table class=\"simpletable\">\n",
       "<caption>OLS Regression Results</caption>\n",
       "<tr>\n",
       "  <th>Dep. Variable:</th>      <td>ADJINC_PERNP</td>   <th>  R-squared:         </th>  <td>   0.105</td>  \n",
       "</tr>\n",
       "<tr>\n",
       "  <th>Model:</th>                   <td>OLS</td>       <th>  Adj. R-squared:    </th>  <td>   0.105</td>  \n",
       "</tr>\n",
       "<tr>\n",
       "  <th>Method:</th>             <td>Least Squares</td>  <th>  F-statistic:       </th>  <td>   1962.</td>  \n",
       "</tr>\n",
       "<tr>\n",
       "  <th>Date:</th>             <td>Fri, 20 Nov 2020</td> <th>  Prob (F-statistic):</th>   <td>  0.00</td>   \n",
       "</tr>\n",
       "<tr>\n",
       "  <th>Time:</th>                 <td>17:28:24</td>     <th>  Log-Likelihood:    </th> <td>-4.1325e+05</td>\n",
       "</tr>\n",
       "<tr>\n",
       "  <th>No. Observations:</th>      <td> 33519</td>      <th>  AIC:               </th>  <td>8.265e+05</td> \n",
       "</tr>\n",
       "<tr>\n",
       "  <th>Df Residuals:</th>          <td> 33516</td>      <th>  BIC:               </th>  <td>8.265e+05</td> \n",
       "</tr>\n",
       "<tr>\n",
       "  <th>Df Model:</th>              <td>     2</td>      <th>                     </th>      <td> </td>     \n",
       "</tr>\n",
       "<tr>\n",
       "  <th>Covariance Type:</th>      <td>nonrobust</td>    <th>                     </th>      <td> </td>     \n",
       "</tr>\n",
       "</table>\n",
       "<table class=\"simpletable\">\n",
       "<tr>\n",
       "      <td></td>         <th>coef</th>     <th>std err</th>      <th>t</th>      <th>P>|t|</th>  <th>[0.025</th>    <th>0.975]</th>  \n",
       "</tr>\n",
       "<tr>\n",
       "  <th>Intercept</th> <td>-6.321e+04</td> <td> 1823.578</td> <td>  -34.664</td> <td> 0.000</td> <td>-6.68e+04</td> <td>-5.96e+04</td>\n",
       "</tr>\n",
       "<tr>\n",
       "  <th>SCHL</th>      <td> 4620.8923</td> <td>   91.457</td> <td>   50.525</td> <td> 0.000</td> <td> 4441.633</td> <td> 4800.151</td>\n",
       "</tr>\n",
       "<tr>\n",
       "  <th>AGEP</th>      <td>  604.6511</td> <td>   19.505</td> <td>   31.000</td> <td> 0.000</td> <td>  566.421</td> <td>  642.881</td>\n",
       "</tr>\n",
       "</table>\n",
       "<table class=\"simpletable\">\n",
       "<tr>\n",
       "  <th>Omnibus:</th>       <td>27881.387</td> <th>  Durbin-Watson:     </th>  <td>   1.935</td> \n",
       "</tr>\n",
       "<tr>\n",
       "  <th>Prob(Omnibus):</th>  <td> 0.000</td>   <th>  Jarque-Bera (JB):  </th> <td>846041.345</td>\n",
       "</tr>\n",
       "<tr>\n",
       "  <th>Skew:</th>           <td> 3.912</td>   <th>  Prob(JB):          </th>  <td>    0.00</td> \n",
       "</tr>\n",
       "<tr>\n",
       "  <th>Kurtosis:</th>       <td>26.336</td>   <th>  Cond. No.          </th>  <td>    299.</td> \n",
       "</tr>\n",
       "</table><br/><br/>Warnings:<br/>[1] Standard Errors assume that the covariance matrix of the errors is correctly specified."
      ],
      "text/plain": [
       "<class 'statsmodels.iolib.summary.Summary'>\n",
       "\"\"\"\n",
       "                            OLS Regression Results                            \n",
       "==============================================================================\n",
       "Dep. Variable:           ADJINC_PERNP   R-squared:                       0.105\n",
       "Model:                            OLS   Adj. R-squared:                  0.105\n",
       "Method:                 Least Squares   F-statistic:                     1962.\n",
       "Date:                Fri, 20 Nov 2020   Prob (F-statistic):               0.00\n",
       "Time:                        17:28:24   Log-Likelihood:            -4.1325e+05\n",
       "No. Observations:               33519   AIC:                         8.265e+05\n",
       "Df Residuals:                   33516   BIC:                         8.265e+05\n",
       "Df Model:                           2                                         \n",
       "Covariance Type:            nonrobust                                         \n",
       "==============================================================================\n",
       "                 coef    std err          t      P>|t|      [0.025      0.975]\n",
       "------------------------------------------------------------------------------\n",
       "Intercept  -6.321e+04   1823.578    -34.664      0.000   -6.68e+04   -5.96e+04\n",
       "SCHL        4620.8923     91.457     50.525      0.000    4441.633    4800.151\n",
       "AGEP         604.6511     19.505     31.000      0.000     566.421     642.881\n",
       "==============================================================================\n",
       "Omnibus:                    27881.387   Durbin-Watson:                   1.935\n",
       "Prob(Omnibus):                  0.000   Jarque-Bera (JB):           846041.345\n",
       "Skew:                           3.912   Prob(JB):                         0.00\n",
       "Kurtosis:                      26.336   Cond. No.                         299.\n",
       "==============================================================================\n",
       "\n",
       "Warnings:\n",
       "[1] Standard Errors assume that the covariance matrix of the errors is correctly specified.\n",
       "\"\"\""
      ]
     },
     "execution_count": 191,
     "metadata": {},
     "output_type": "execute_result"
    }
   ],
   "source": [
    "# Linear Regression with Adjusted Income as the dependent variable and educational attainment and age \n",
    "# as the independent variables\n",
    "\n",
    "formula = 'ADJINC_PERNP ~ SCHL + AGEP'\n",
    "model = smf.ols(formula, data=clean_data)\n",
    "results = model.fit()\n",
    "results.summary()"
   ]
  },
  {
   "cell_type": "code",
   "execution_count": 192,
   "metadata": {},
   "outputs": [
    {
     "data": {
      "text/html": [
       "<table class=\"simpletable\">\n",
       "<caption>OLS Regression Results</caption>\n",
       "<tr>\n",
       "  <th>Dep. Variable:</th>      <td>ADJINC_PERNP</td>   <th>  R-squared:         </th>  <td>   0.126</td>  \n",
       "</tr>\n",
       "<tr>\n",
       "  <th>Model:</th>                   <td>OLS</td>       <th>  Adj. R-squared:    </th>  <td>   0.126</td>  \n",
       "</tr>\n",
       "<tr>\n",
       "  <th>Method:</th>             <td>Least Squares</td>  <th>  F-statistic:       </th>  <td>   806.2</td>  \n",
       "</tr>\n",
       "<tr>\n",
       "  <th>Date:</th>             <td>Fri, 20 Nov 2020</td> <th>  Prob (F-statistic):</th>   <td>  0.00</td>   \n",
       "</tr>\n",
       "<tr>\n",
       "  <th>Time:</th>                 <td>17:28:24</td>     <th>  Log-Likelihood:    </th> <td>-4.1285e+05</td>\n",
       "</tr>\n",
       "<tr>\n",
       "  <th>No. Observations:</th>      <td> 33519</td>      <th>  AIC:               </th>  <td>8.257e+05</td> \n",
       "</tr>\n",
       "<tr>\n",
       "  <th>Df Residuals:</th>          <td> 33512</td>      <th>  BIC:               </th>  <td>8.258e+05</td> \n",
       "</tr>\n",
       "<tr>\n",
       "  <th>Df Model:</th>              <td>     6</td>      <th>                     </th>      <td> </td>     \n",
       "</tr>\n",
       "<tr>\n",
       "  <th>Covariance Type:</th>      <td>nonrobust</td>    <th>                     </th>      <td> </td>     \n",
       "</tr>\n",
       "</table>\n",
       "<table class=\"simpletable\">\n",
       "<tr>\n",
       "      <td></td>         <th>coef</th>     <th>std err</th>      <th>t</th>      <th>P>|t|</th>  <th>[0.025</th>    <th>0.975]</th>  \n",
       "</tr>\n",
       "<tr>\n",
       "  <th>Intercept</th> <td>-3.957e+04</td> <td> 2036.331</td> <td>  -19.434</td> <td> 0.000</td> <td>-4.36e+04</td> <td>-3.56e+04</td>\n",
       "</tr>\n",
       "<tr>\n",
       "  <th>MAR[T.2]</th>  <td>-2.463e+04</td> <td> 2094.449</td> <td>  -11.760</td> <td> 0.000</td> <td>-2.87e+04</td> <td>-2.05e+04</td>\n",
       "</tr>\n",
       "<tr>\n",
       "  <th>MAR[T.3]</th>  <td>-9885.6318</td> <td>  936.873</td> <td>  -10.552</td> <td> 0.000</td> <td>-1.17e+04</td> <td>-8049.328</td>\n",
       "</tr>\n",
       "<tr>\n",
       "  <th>MAR[T.4]</th>  <td>-1.365e+04</td> <td> 2331.529</td> <td>   -5.855</td> <td> 0.000</td> <td>-1.82e+04</td> <td>-9080.152</td>\n",
       "</tr>\n",
       "<tr>\n",
       "  <th>MAR[T.5]</th>  <td>-2.016e+04</td> <td>  782.517</td> <td>  -25.767</td> <td> 0.000</td> <td>-2.17e+04</td> <td>-1.86e+04</td>\n",
       "</tr>\n",
       "<tr>\n",
       "  <th>SCHL</th>      <td> 4377.3175</td> <td>   90.943</td> <td>   48.133</td> <td> 0.000</td> <td> 4199.067</td> <td> 4555.568</td>\n",
       "</tr>\n",
       "<tr>\n",
       "  <th>AGEP</th>      <td>  356.7145</td> <td>   23.580</td> <td>   15.128</td> <td> 0.000</td> <td>  310.497</td> <td>  402.932</td>\n",
       "</tr>\n",
       "</table>\n",
       "<table class=\"simpletable\">\n",
       "<tr>\n",
       "  <th>Omnibus:</th>       <td>28023.977</td> <th>  Durbin-Watson:     </th>  <td>   1.945</td> \n",
       "</tr>\n",
       "<tr>\n",
       "  <th>Prob(Omnibus):</th>  <td> 0.000</td>   <th>  Jarque-Bera (JB):  </th> <td>871023.860</td>\n",
       "</tr>\n",
       "<tr>\n",
       "  <th>Skew:</th>           <td> 3.934</td>   <th>  Prob(JB):          </th>  <td>    0.00</td> \n",
       "</tr>\n",
       "<tr>\n",
       "  <th>Kurtosis:</th>       <td>26.702</td>   <th>  Cond. No.          </th>  <td>    396.</td> \n",
       "</tr>\n",
       "</table><br/><br/>Warnings:<br/>[1] Standard Errors assume that the covariance matrix of the errors is correctly specified."
      ],
      "text/plain": [
       "<class 'statsmodels.iolib.summary.Summary'>\n",
       "\"\"\"\n",
       "                            OLS Regression Results                            \n",
       "==============================================================================\n",
       "Dep. Variable:           ADJINC_PERNP   R-squared:                       0.126\n",
       "Model:                            OLS   Adj. R-squared:                  0.126\n",
       "Method:                 Least Squares   F-statistic:                     806.2\n",
       "Date:                Fri, 20 Nov 2020   Prob (F-statistic):               0.00\n",
       "Time:                        17:28:24   Log-Likelihood:            -4.1285e+05\n",
       "No. Observations:               33519   AIC:                         8.257e+05\n",
       "Df Residuals:                   33512   BIC:                         8.258e+05\n",
       "Df Model:                           6                                         \n",
       "Covariance Type:            nonrobust                                         \n",
       "==============================================================================\n",
       "                 coef    std err          t      P>|t|      [0.025      0.975]\n",
       "------------------------------------------------------------------------------\n",
       "Intercept  -3.957e+04   2036.331    -19.434      0.000   -4.36e+04   -3.56e+04\n",
       "MAR[T.2]   -2.463e+04   2094.449    -11.760      0.000   -2.87e+04   -2.05e+04\n",
       "MAR[T.3]   -9885.6318    936.873    -10.552      0.000   -1.17e+04   -8049.328\n",
       "MAR[T.4]   -1.365e+04   2331.529     -5.855      0.000   -1.82e+04   -9080.152\n",
       "MAR[T.5]   -2.016e+04    782.517    -25.767      0.000   -2.17e+04   -1.86e+04\n",
       "SCHL        4377.3175     90.943     48.133      0.000    4199.067    4555.568\n",
       "AGEP         356.7145     23.580     15.128      0.000     310.497     402.932\n",
       "==============================================================================\n",
       "Omnibus:                    28023.977   Durbin-Watson:                   1.945\n",
       "Prob(Omnibus):                  0.000   Jarque-Bera (JB):           871023.860\n",
       "Skew:                           3.934   Prob(JB):                         0.00\n",
       "Kurtosis:                      26.702   Cond. No.                         396.\n",
       "==============================================================================\n",
       "\n",
       "Warnings:\n",
       "[1] Standard Errors assume that the covariance matrix of the errors is correctly specified.\n",
       "\"\"\""
      ]
     },
     "execution_count": 192,
     "metadata": {},
     "output_type": "execute_result"
    }
   ],
   "source": [
    "# Linear Regression with Adjusted Income as the dependent variable and educational attainment, age, \n",
    "# and martial status as the independent variables\n",
    "formula2 = 'ADJINC_PERNP ~ SCHL + AGEP + MAR'\n",
    "model2 = smf.ols(formula2, data=clean_data)\n",
    "results2 = model2.fit()\n",
    "results2.summary()"
   ]
  },
  {
   "cell_type": "code",
   "execution_count": 193,
   "metadata": {},
   "outputs": [],
   "source": [
    "# adding a new variable for age to account for a non-linear relationship\n",
    "clean_data['occp_new']=clean_data.occp_new.astype(str)\n",
    "clean_data['MAR']= clean_data.MAR.astype(str)\n",
    "clean_data['AGE2']=clean_data.AGEP**2"
   ]
  },
  {
   "cell_type": "code",
   "execution_count": 194,
   "metadata": {},
   "outputs": [
    {
     "data": {
      "text/html": [
       "<table class=\"simpletable\">\n",
       "<caption>OLS Regression Results</caption>\n",
       "<tr>\n",
       "  <th>Dep. Variable:</th>      <td>ADJINC_PERNP</td>   <th>  R-squared:         </th>  <td>   0.149</td>  \n",
       "</tr>\n",
       "<tr>\n",
       "  <th>Model:</th>                   <td>OLS</td>       <th>  Adj. R-squared:    </th>  <td>   0.149</td>  \n",
       "</tr>\n",
       "<tr>\n",
       "  <th>Method:</th>             <td>Least Squares</td>  <th>  F-statistic:       </th>  <td>   279.6</td>  \n",
       "</tr>\n",
       "<tr>\n",
       "  <th>Date:</th>             <td>Fri, 20 Nov 2020</td> <th>  Prob (F-statistic):</th>   <td>  0.00</td>   \n",
       "</tr>\n",
       "<tr>\n",
       "  <th>Time:</th>                 <td>17:28:25</td>     <th>  Log-Likelihood:    </th> <td>-4.1240e+05</td>\n",
       "</tr>\n",
       "<tr>\n",
       "  <th>No. Observations:</th>      <td> 33519</td>      <th>  AIC:               </th>  <td>8.248e+05</td> \n",
       "</tr>\n",
       "<tr>\n",
       "  <th>Df Residuals:</th>          <td> 33497</td>      <th>  BIC:               </th>  <td>8.250e+05</td> \n",
       "</tr>\n",
       "<tr>\n",
       "  <th>Df Model:</th>              <td>    21</td>      <th>                     </th>      <td> </td>     \n",
       "</tr>\n",
       "<tr>\n",
       "  <th>Covariance Type:</th>      <td>nonrobust</td>    <th>                     </th>      <td> </td>     \n",
       "</tr>\n",
       "</table>\n",
       "<table class=\"simpletable\">\n",
       "<tr>\n",
       "          <td></td>            <th>coef</th>     <th>std err</th>      <th>t</th>      <th>P>|t|</th>  <th>[0.025</th>    <th>0.975]</th>  \n",
       "</tr>\n",
       "<tr>\n",
       "  <th>Intercept</th>        <td>-3.155e+04</td> <td> 2097.402</td> <td>  -15.043</td> <td> 0.000</td> <td>-3.57e+04</td> <td>-2.74e+04</td>\n",
       "</tr>\n",
       "<tr>\n",
       "  <th>MAR[T.2]</th>         <td>-2.362e+04</td> <td> 2068.354</td> <td>  -11.420</td> <td> 0.000</td> <td>-2.77e+04</td> <td>-1.96e+04</td>\n",
       "</tr>\n",
       "<tr>\n",
       "  <th>MAR[T.3]</th>         <td>-9615.8581</td> <td>  925.166</td> <td>  -10.394</td> <td> 0.000</td> <td>-1.14e+04</td> <td>-7802.500</td>\n",
       "</tr>\n",
       "<tr>\n",
       "  <th>MAR[T.4]</th>         <td>-1.308e+04</td> <td> 2302.026</td> <td>   -5.684</td> <td> 0.000</td> <td>-1.76e+04</td> <td>-8571.853</td>\n",
       "</tr>\n",
       "<tr>\n",
       "  <th>MAR[T.5]</th>         <td>-1.877e+04</td> <td>  777.522</td> <td>  -24.146</td> <td> 0.000</td> <td>-2.03e+04</td> <td>-1.73e+04</td>\n",
       "</tr>\n",
       "<tr>\n",
       "  <th>occp_new[T.2310]</th> <td>-2.794e+04</td> <td> 1959.212</td> <td>  -14.258</td> <td> 0.000</td> <td>-3.18e+04</td> <td>-2.41e+04</td>\n",
       "</tr>\n",
       "<tr>\n",
       "  <th>occp_new[T.3255]</th> <td> 2314.2219</td> <td> 2174.454</td> <td>    1.064</td> <td> 0.287</td> <td>-1947.783</td> <td> 6576.227</td>\n",
       "</tr>\n",
       "<tr>\n",
       "  <th>occp_new[T.4020]</th> <td>-1.598e+04</td> <td> 2383.279</td> <td>   -6.706</td> <td> 0.000</td> <td>-2.07e+04</td> <td>-1.13e+04</td>\n",
       "</tr>\n",
       "<tr>\n",
       "  <th>occp_new[T.4110]</th> <td>-1.742e+04</td> <td> 2565.114</td> <td>   -6.793</td> <td> 0.000</td> <td>-2.25e+04</td> <td>-1.24e+04</td>\n",
       "</tr>\n",
       "<tr>\n",
       "  <th>occp_new[T.4220]</th> <td>-1.639e+04</td> <td> 2280.047</td> <td>   -7.189</td> <td> 0.000</td> <td>-2.09e+04</td> <td>-1.19e+04</td>\n",
       "</tr>\n",
       "<tr>\n",
       "  <th>occp_new[T.440]</th>  <td> 2.797e+04</td> <td> 1903.195</td> <td>   14.696</td> <td> 0.000</td> <td> 2.42e+04</td> <td> 3.17e+04</td>\n",
       "</tr>\n",
       "<tr>\n",
       "  <th>occp_new[T.4700]</th> <td> 2427.8957</td> <td> 2200.922</td> <td>    1.103</td> <td> 0.270</td> <td>-1885.988</td> <td> 6741.779</td>\n",
       "</tr>\n",
       "<tr>\n",
       "  <th>occp_new[T.4720]</th> <td>-2.074e+04</td> <td> 2025.002</td> <td>  -10.242</td> <td> 0.000</td> <td>-2.47e+04</td> <td>-1.68e+04</td>\n",
       "</tr>\n",
       "<tr>\n",
       "  <th>occp_new[T.4760]</th> <td>-1.807e+04</td> <td> 2005.868</td> <td>   -9.009</td> <td> 0.000</td> <td> -2.2e+04</td> <td>-1.41e+04</td>\n",
       "</tr>\n",
       "<tr>\n",
       "  <th>occp_new[T.5240]</th> <td>-1.471e+04</td> <td> 1775.557</td> <td>   -8.287</td> <td> 0.000</td> <td>-1.82e+04</td> <td>-1.12e+04</td>\n",
       "</tr>\n",
       "<tr>\n",
       "  <th>occp_new[T.5740]</th> <td>-2.209e+04</td> <td> 2433.971</td> <td>   -9.076</td> <td> 0.000</td> <td>-2.69e+04</td> <td>-1.73e+04</td>\n",
       "</tr>\n",
       "<tr>\n",
       "  <th>occp_new[T.6260]</th> <td>-7347.4029</td> <td> 2663.868</td> <td>   -2.758</td> <td> 0.006</td> <td>-1.26e+04</td> <td>-2126.129</td>\n",
       "</tr>\n",
       "<tr>\n",
       "  <th>occp_new[T.800]</th>  <td> 8731.5767</td> <td> 2675.655</td> <td>    3.263</td> <td> 0.001</td> <td> 3487.199</td> <td>  1.4e+04</td>\n",
       "</tr>\n",
       "<tr>\n",
       "  <th>occp_new[T.9130]</th> <td>-4707.4434</td> <td> 2175.118</td> <td>   -2.164</td> <td> 0.030</td> <td>-8970.750</td> <td> -444.137</td>\n",
       "</tr>\n",
       "<tr>\n",
       "  <th>occp_new[T.9620]</th> <td>-1.447e+04</td> <td> 2275.749</td> <td>   -6.359</td> <td> 0.000</td> <td>-1.89e+04</td> <td>   -1e+04</td>\n",
       "</tr>\n",
       "<tr>\n",
       "  <th>SCHL</th>             <td> 4134.2999</td> <td>   93.804</td> <td>   44.074</td> <td> 0.000</td> <td> 3950.442</td> <td> 4318.158</td>\n",
       "</tr>\n",
       "<tr>\n",
       "  <th>AGEP</th>             <td>  321.7757</td> <td>   23.389</td> <td>   13.758</td> <td> 0.000</td> <td>  275.932</td> <td>  367.619</td>\n",
       "</tr>\n",
       "</table>\n",
       "<table class=\"simpletable\">\n",
       "<tr>\n",
       "  <th>Omnibus:</th>       <td>28218.503</td> <th>  Durbin-Watson:     </th>  <td>   1.945</td> \n",
       "</tr>\n",
       "<tr>\n",
       "  <th>Prob(Omnibus):</th>  <td> 0.000</td>   <th>  Jarque-Bera (JB):  </th> <td>911352.789</td>\n",
       "</tr>\n",
       "<tr>\n",
       "  <th>Skew:</th>           <td> 3.961</td>   <th>  Prob(JB):          </th>  <td>    0.00</td> \n",
       "</tr>\n",
       "<tr>\n",
       "  <th>Kurtosis:</th>       <td>27.286</td>   <th>  Cond. No.          </th>  <td>    473.</td> \n",
       "</tr>\n",
       "</table><br/><br/>Warnings:<br/>[1] Standard Errors assume that the covariance matrix of the errors is correctly specified."
      ],
      "text/plain": [
       "<class 'statsmodels.iolib.summary.Summary'>\n",
       "\"\"\"\n",
       "                            OLS Regression Results                            \n",
       "==============================================================================\n",
       "Dep. Variable:           ADJINC_PERNP   R-squared:                       0.149\n",
       "Model:                            OLS   Adj. R-squared:                  0.149\n",
       "Method:                 Least Squares   F-statistic:                     279.6\n",
       "Date:                Fri, 20 Nov 2020   Prob (F-statistic):               0.00\n",
       "Time:                        17:28:25   Log-Likelihood:            -4.1240e+05\n",
       "No. Observations:               33519   AIC:                         8.248e+05\n",
       "Df Residuals:                   33497   BIC:                         8.250e+05\n",
       "Df Model:                          21                                         \n",
       "Covariance Type:            nonrobust                                         \n",
       "====================================================================================\n",
       "                       coef    std err          t      P>|t|      [0.025      0.975]\n",
       "------------------------------------------------------------------------------------\n",
       "Intercept        -3.155e+04   2097.402    -15.043      0.000   -3.57e+04   -2.74e+04\n",
       "MAR[T.2]         -2.362e+04   2068.354    -11.420      0.000   -2.77e+04   -1.96e+04\n",
       "MAR[T.3]         -9615.8581    925.166    -10.394      0.000   -1.14e+04   -7802.500\n",
       "MAR[T.4]         -1.308e+04   2302.026     -5.684      0.000   -1.76e+04   -8571.853\n",
       "MAR[T.5]         -1.877e+04    777.522    -24.146      0.000   -2.03e+04   -1.73e+04\n",
       "occp_new[T.2310] -2.794e+04   1959.212    -14.258      0.000   -3.18e+04   -2.41e+04\n",
       "occp_new[T.3255]  2314.2219   2174.454      1.064      0.287   -1947.783    6576.227\n",
       "occp_new[T.4020] -1.598e+04   2383.279     -6.706      0.000   -2.07e+04   -1.13e+04\n",
       "occp_new[T.4110] -1.742e+04   2565.114     -6.793      0.000   -2.25e+04   -1.24e+04\n",
       "occp_new[T.4220] -1.639e+04   2280.047     -7.189      0.000   -2.09e+04   -1.19e+04\n",
       "occp_new[T.440]   2.797e+04   1903.195     14.696      0.000    2.42e+04    3.17e+04\n",
       "occp_new[T.4700]  2427.8957   2200.922      1.103      0.270   -1885.988    6741.779\n",
       "occp_new[T.4720] -2.074e+04   2025.002    -10.242      0.000   -2.47e+04   -1.68e+04\n",
       "occp_new[T.4760] -1.807e+04   2005.868     -9.009      0.000    -2.2e+04   -1.41e+04\n",
       "occp_new[T.5240] -1.471e+04   1775.557     -8.287      0.000   -1.82e+04   -1.12e+04\n",
       "occp_new[T.5740] -2.209e+04   2433.971     -9.076      0.000   -2.69e+04   -1.73e+04\n",
       "occp_new[T.6260] -7347.4029   2663.868     -2.758      0.006   -1.26e+04   -2126.129\n",
       "occp_new[T.800]   8731.5767   2675.655      3.263      0.001    3487.199     1.4e+04\n",
       "occp_new[T.9130] -4707.4434   2175.118     -2.164      0.030   -8970.750    -444.137\n",
       "occp_new[T.9620] -1.447e+04   2275.749     -6.359      0.000   -1.89e+04      -1e+04\n",
       "SCHL              4134.2999     93.804     44.074      0.000    3950.442    4318.158\n",
       "AGEP               321.7757     23.389     13.758      0.000     275.932     367.619\n",
       "==============================================================================\n",
       "Omnibus:                    28218.503   Durbin-Watson:                   1.945\n",
       "Prob(Omnibus):                  0.000   Jarque-Bera (JB):           911352.789\n",
       "Skew:                           3.961   Prob(JB):                         0.00\n",
       "Kurtosis:                      27.286   Cond. No.                         473.\n",
       "==============================================================================\n",
       "\n",
       "Warnings:\n",
       "[1] Standard Errors assume that the covariance matrix of the errors is correctly specified.\n",
       "\"\"\""
      ]
     },
     "execution_count": 194,
     "metadata": {},
     "output_type": "execute_result"
    }
   ],
   "source": [
    "# Linear Regression with Adjusted Income as the dependent variable and educational attainment, age, \n",
    "# marital status, and occupation as the independent variables\n",
    "formula3 = 'ADJINC_PERNP ~ SCHL + AGEP + MAR+ occp_new'\n",
    "model3 = smf.ols(formula3, data=clean_data)\n",
    "results3 = model3.fit()\n",
    "results3.summary()"
   ]
  },
  {
   "cell_type": "code",
   "execution_count": 195,
   "metadata": {
    "scrolled": true
   },
   "outputs": [
    {
     "data": {
      "text/html": [
       "<table class=\"simpletable\">\n",
       "<caption>OLS Regression Results</caption>\n",
       "<tr>\n",
       "  <th>Dep. Variable:</th>      <td>ADJINC_PERNP</td>   <th>  R-squared:         </th>  <td>   0.170</td>  \n",
       "</tr>\n",
       "<tr>\n",
       "  <th>Model:</th>                   <td>OLS</td>       <th>  Adj. R-squared:    </th>  <td>   0.170</td>  \n",
       "</tr>\n",
       "<tr>\n",
       "  <th>Method:</th>             <td>Least Squares</td>  <th>  F-statistic:       </th>  <td>   312.4</td>  \n",
       "</tr>\n",
       "<tr>\n",
       "  <th>Date:</th>             <td>Fri, 20 Nov 2020</td> <th>  Prob (F-statistic):</th>   <td>  0.00</td>   \n",
       "</tr>\n",
       "<tr>\n",
       "  <th>Time:</th>                 <td>17:28:25</td>     <th>  Log-Likelihood:    </th> <td>-4.1198e+05</td>\n",
       "</tr>\n",
       "<tr>\n",
       "  <th>No. Observations:</th>      <td> 33519</td>      <th>  AIC:               </th>  <td>8.240e+05</td> \n",
       "</tr>\n",
       "<tr>\n",
       "  <th>Df Residuals:</th>          <td> 33496</td>      <th>  BIC:               </th>  <td>8.242e+05</td> \n",
       "</tr>\n",
       "<tr>\n",
       "  <th>Df Model:</th>              <td>    22</td>      <th>                     </th>      <td> </td>     \n",
       "</tr>\n",
       "<tr>\n",
       "  <th>Covariance Type:</th>      <td>nonrobust</td>    <th>                     </th>      <td> </td>     \n",
       "</tr>\n",
       "</table>\n",
       "<table class=\"simpletable\">\n",
       "<tr>\n",
       "          <td></td>            <th>coef</th>     <th>std err</th>      <th>t</th>      <th>P>|t|</th>  <th>[0.025</th>    <th>0.975]</th>  \n",
       "</tr>\n",
       "<tr>\n",
       "  <th>Intercept</th>        <td>-1.004e+05</td> <td> 3140.442</td> <td>  -31.986</td> <td> 0.000</td> <td>-1.07e+05</td> <td>-9.43e+04</td>\n",
       "</tr>\n",
       "<tr>\n",
       "  <th>MAR[T.2]</th>         <td>-1.546e+04</td> <td> 2061.605</td> <td>   -7.501</td> <td> 0.000</td> <td>-1.95e+04</td> <td>-1.14e+04</td>\n",
       "</tr>\n",
       "<tr>\n",
       "  <th>MAR[T.3]</th>         <td>-9843.0705</td> <td>  913.668</td> <td>  -10.773</td> <td> 0.000</td> <td>-1.16e+04</td> <td>-8052.248</td>\n",
       "</tr>\n",
       "<tr>\n",
       "  <th>MAR[T.4]</th>         <td>-1.438e+04</td> <td> 2273.772</td> <td>   -6.326</td> <td> 0.000</td> <td>-1.88e+04</td> <td>-9927.911</td>\n",
       "</tr>\n",
       "<tr>\n",
       "  <th>MAR[T.5]</th>         <td>-1.174e+04</td> <td>  804.758</td> <td>  -14.589</td> <td> 0.000</td> <td>-1.33e+04</td> <td>-1.02e+04</td>\n",
       "</tr>\n",
       "<tr>\n",
       "  <th>occp_new[T.2310]</th> <td>-2.892e+04</td> <td> 1935.087</td> <td>  -14.945</td> <td> 0.000</td> <td>-3.27e+04</td> <td>-2.51e+04</td>\n",
       "</tr>\n",
       "<tr>\n",
       "  <th>occp_new[T.3255]</th> <td> 1119.1195</td> <td> 2147.743</td> <td>    0.521</td> <td> 0.602</td> <td>-3090.531</td> <td> 5328.770</td>\n",
       "</tr>\n",
       "<tr>\n",
       "  <th>occp_new[T.4020]</th> <td> -1.42e+04</td> <td> 2354.371</td> <td>   -6.030</td> <td> 0.000</td> <td>-1.88e+04</td> <td>-9581.487</td>\n",
       "</tr>\n",
       "<tr>\n",
       "  <th>occp_new[T.4110]</th> <td>  -1.3e+04</td> <td> 2537.671</td> <td>   -5.123</td> <td> 0.000</td> <td> -1.8e+04</td> <td>-8027.149</td>\n",
       "</tr>\n",
       "<tr>\n",
       "  <th>occp_new[T.4220]</th> <td>-1.601e+04</td> <td> 2251.668</td> <td>   -7.109</td> <td> 0.000</td> <td>-2.04e+04</td> <td>-1.16e+04</td>\n",
       "</tr>\n",
       "<tr>\n",
       "  <th>occp_new[T.440]</th>  <td> 2.665e+04</td> <td> 1880.022</td> <td>   14.173</td> <td> 0.000</td> <td>  2.3e+04</td> <td> 3.03e+04</td>\n",
       "</tr>\n",
       "<tr>\n",
       "  <th>occp_new[T.4700]</th> <td> 1021.1275</td> <td> 2174.025</td> <td>    0.470</td> <td> 0.639</td> <td>-3240.037</td> <td> 5282.292</td>\n",
       "</tr>\n",
       "<tr>\n",
       "  <th>occp_new[T.4720]</th> <td>-1.584e+04</td> <td> 2006.788</td> <td>   -7.895</td> <td> 0.000</td> <td>-1.98e+04</td> <td>-1.19e+04</td>\n",
       "</tr>\n",
       "<tr>\n",
       "  <th>occp_new[T.4760]</th> <td>-1.385e+04</td> <td> 1986.133</td> <td>   -6.974</td> <td> 0.000</td> <td>-1.77e+04</td> <td>-9959.377</td>\n",
       "</tr>\n",
       "<tr>\n",
       "  <th>occp_new[T.5240]</th> <td>-1.343e+04</td> <td> 1753.974</td> <td>   -7.660</td> <td> 0.000</td> <td>-1.69e+04</td> <td>-9996.862</td>\n",
       "</tr>\n",
       "<tr>\n",
       "  <th>occp_new[T.5740]</th> <td>-2.189e+04</td> <td> 2403.645</td> <td>   -9.107</td> <td> 0.000</td> <td>-2.66e+04</td> <td>-1.72e+04</td>\n",
       "</tr>\n",
       "<tr>\n",
       "  <th>occp_new[T.6260]</th> <td>-8049.3100</td> <td> 2630.776</td> <td>   -3.060</td> <td> 0.002</td> <td>-1.32e+04</td> <td>-2892.897</td>\n",
       "</tr>\n",
       "<tr>\n",
       "  <th>occp_new[T.800]</th>  <td> 8790.4564</td> <td> 2642.308</td> <td>    3.327</td> <td> 0.001</td> <td> 3611.441</td> <td>  1.4e+04</td>\n",
       "</tr>\n",
       "<tr>\n",
       "  <th>occp_new[T.9130]</th> <td>-5628.8965</td> <td> 2148.240</td> <td>   -2.620</td> <td> 0.009</td> <td>-9839.521</td> <td>-1418.272</td>\n",
       "</tr>\n",
       "<tr>\n",
       "  <th>occp_new[T.9620]</th> <td> -1.35e+04</td> <td> 2247.632</td> <td>   -6.006</td> <td> 0.000</td> <td>-1.79e+04</td> <td>-9094.338</td>\n",
       "</tr>\n",
       "<tr>\n",
       "  <th>SCHL</th>             <td> 3993.8140</td> <td>   92.759</td> <td>   43.056</td> <td> 0.000</td> <td> 3812.002</td> <td> 4175.626</td>\n",
       "</tr>\n",
       "<tr>\n",
       "  <th>AGEP</th>             <td> 3738.5648</td> <td>  119.324</td> <td>   31.331</td> <td> 0.000</td> <td> 3504.686</td> <td> 3972.443</td>\n",
       "</tr>\n",
       "<tr>\n",
       "  <th>AGE2</th>             <td>  -37.3889</td> <td>    1.281</td> <td>  -29.187</td> <td> 0.000</td> <td>  -39.900</td> <td>  -34.878</td>\n",
       "</tr>\n",
       "</table>\n",
       "<table class=\"simpletable\">\n",
       "<tr>\n",
       "  <th>Omnibus:</th>       <td>28855.862</td> <th>  Durbin-Watson:     </th>  <td>   1.954</td> \n",
       "</tr>\n",
       "<tr>\n",
       "  <th>Prob(Omnibus):</th>  <td> 0.000</td>   <th>  Jarque-Bera (JB):  </th> <td>989185.908</td>\n",
       "</tr>\n",
       "<tr>\n",
       "  <th>Skew:</th>           <td> 4.080</td>   <th>  Prob(JB):          </th>  <td>    0.00</td> \n",
       "</tr>\n",
       "<tr>\n",
       "  <th>Kurtosis:</th>       <td>28.331</td>   <th>  Cond. No.          </th>  <td>2.87e+04</td> \n",
       "</tr>\n",
       "</table><br/><br/>Warnings:<br/>[1] Standard Errors assume that the covariance matrix of the errors is correctly specified.<br/>[2] The condition number is large, 2.87e+04. This might indicate that there are<br/>strong multicollinearity or other numerical problems."
      ],
      "text/plain": [
       "<class 'statsmodels.iolib.summary.Summary'>\n",
       "\"\"\"\n",
       "                            OLS Regression Results                            \n",
       "==============================================================================\n",
       "Dep. Variable:           ADJINC_PERNP   R-squared:                       0.170\n",
       "Model:                            OLS   Adj. R-squared:                  0.170\n",
       "Method:                 Least Squares   F-statistic:                     312.4\n",
       "Date:                Fri, 20 Nov 2020   Prob (F-statistic):               0.00\n",
       "Time:                        17:28:25   Log-Likelihood:            -4.1198e+05\n",
       "No. Observations:               33519   AIC:                         8.240e+05\n",
       "Df Residuals:                   33496   BIC:                         8.242e+05\n",
       "Df Model:                          22                                         \n",
       "Covariance Type:            nonrobust                                         \n",
       "====================================================================================\n",
       "                       coef    std err          t      P>|t|      [0.025      0.975]\n",
       "------------------------------------------------------------------------------------\n",
       "Intercept        -1.004e+05   3140.442    -31.986      0.000   -1.07e+05   -9.43e+04\n",
       "MAR[T.2]         -1.546e+04   2061.605     -7.501      0.000   -1.95e+04   -1.14e+04\n",
       "MAR[T.3]         -9843.0705    913.668    -10.773      0.000   -1.16e+04   -8052.248\n",
       "MAR[T.4]         -1.438e+04   2273.772     -6.326      0.000   -1.88e+04   -9927.911\n",
       "MAR[T.5]         -1.174e+04    804.758    -14.589      0.000   -1.33e+04   -1.02e+04\n",
       "occp_new[T.2310] -2.892e+04   1935.087    -14.945      0.000   -3.27e+04   -2.51e+04\n",
       "occp_new[T.3255]  1119.1195   2147.743      0.521      0.602   -3090.531    5328.770\n",
       "occp_new[T.4020]  -1.42e+04   2354.371     -6.030      0.000   -1.88e+04   -9581.487\n",
       "occp_new[T.4110]   -1.3e+04   2537.671     -5.123      0.000    -1.8e+04   -8027.149\n",
       "occp_new[T.4220] -1.601e+04   2251.668     -7.109      0.000   -2.04e+04   -1.16e+04\n",
       "occp_new[T.440]   2.665e+04   1880.022     14.173      0.000     2.3e+04    3.03e+04\n",
       "occp_new[T.4700]  1021.1275   2174.025      0.470      0.639   -3240.037    5282.292\n",
       "occp_new[T.4720] -1.584e+04   2006.788     -7.895      0.000   -1.98e+04   -1.19e+04\n",
       "occp_new[T.4760] -1.385e+04   1986.133     -6.974      0.000   -1.77e+04   -9959.377\n",
       "occp_new[T.5240] -1.343e+04   1753.974     -7.660      0.000   -1.69e+04   -9996.862\n",
       "occp_new[T.5740] -2.189e+04   2403.645     -9.107      0.000   -2.66e+04   -1.72e+04\n",
       "occp_new[T.6260] -8049.3100   2630.776     -3.060      0.002   -1.32e+04   -2892.897\n",
       "occp_new[T.800]   8790.4564   2642.308      3.327      0.001    3611.441     1.4e+04\n",
       "occp_new[T.9130] -5628.8965   2148.240     -2.620      0.009   -9839.521   -1418.272\n",
       "occp_new[T.9620]  -1.35e+04   2247.632     -6.006      0.000   -1.79e+04   -9094.338\n",
       "SCHL              3993.8140     92.759     43.056      0.000    3812.002    4175.626\n",
       "AGEP              3738.5648    119.324     31.331      0.000    3504.686    3972.443\n",
       "AGE2               -37.3889      1.281    -29.187      0.000     -39.900     -34.878\n",
       "==============================================================================\n",
       "Omnibus:                    28855.862   Durbin-Watson:                   1.954\n",
       "Prob(Omnibus):                  0.000   Jarque-Bera (JB):           989185.908\n",
       "Skew:                           4.080   Prob(JB):                         0.00\n",
       "Kurtosis:                      28.331   Cond. No.                     2.87e+04\n",
       "==============================================================================\n",
       "\n",
       "Warnings:\n",
       "[1] Standard Errors assume that the covariance matrix of the errors is correctly specified.\n",
       "[2] The condition number is large, 2.87e+04. This might indicate that there are\n",
       "strong multicollinearity or other numerical problems.\n",
       "\"\"\""
      ]
     },
     "execution_count": 195,
     "metadata": {},
     "output_type": "execute_result"
    }
   ],
   "source": [
    "# Linear Regression with Adjusted Income as the dependent variable and educational attainment, age, age^2, \n",
    "# marital status, and occupation as the independent variables\n",
    "formula4 = 'ADJINC_PERNP ~ SCHL + AGEP+AGE2 + MAR+ occp_new'\n",
    "model4 = smf.ols(formula4, data=clean_data)\n",
    "results4 = model4.fit()\n",
    "results4.summary()"
   ]
  },
  {
   "cell_type": "code",
   "execution_count": 196,
   "metadata": {},
   "outputs": [
    {
     "data": {
      "text/plain": [
       "0.0"
      ]
     },
     "execution_count": 196,
     "metadata": {},
     "output_type": "execute_result"
    }
   ],
   "source": [
    "# performing a difference-in-means calculation\n",
    "data = bach.ADJINC_PERNP.values, mast.ADJINC_PERNP.values\n",
    "ht = DiffMeansPermute(data)\n",
    "pvalue = ht.PValue()\n",
    "pvalue"
   ]
  },
  {
   "cell_type": "code",
   "execution_count": 197,
   "metadata": {},
   "outputs": [
    {
     "data": {
      "text/plain": [
       "65584.45899803944"
      ]
     },
     "execution_count": 197,
     "metadata": {},
     "output_type": "execute_result"
    }
   ],
   "source": [
    "bach.ADJINC_PERNP.mean()"
   ]
  },
  {
   "cell_type": "code",
   "execution_count": 198,
   "metadata": {},
   "outputs": [
    {
     "data": {
      "text/plain": [
       "76898.45388532287"
      ]
     },
     "execution_count": 198,
     "metadata": {},
     "output_type": "execute_result"
    }
   ],
   "source": [
    "mast.ADJINC_PERNP.mean()"
   ]
  },
  {
   "cell_type": "code",
   "execution_count": 199,
   "metadata": {},
   "outputs": [
    {
     "data": {
      "text/plain": [
       "11313.994887283436"
      ]
     },
     "execution_count": 199,
     "metadata": {},
     "output_type": "execute_result"
    }
   ],
   "source": [
    "mast.ADJINC_PERNP.mean() - bach.ADJINC_PERNP.mean()"
   ]
  }
 ],
 "metadata": {
  "kernelspec": {
   "display_name": "Python 3",
   "language": "python",
   "name": "python3"
  },
  "language_info": {
   "codemirror_mode": {
    "name": "ipython",
    "version": 3
   },
   "file_extension": ".py",
   "mimetype": "text/x-python",
   "name": "python",
   "nbconvert_exporter": "python",
   "pygments_lexer": "ipython3",
   "version": "3.7.3"
  }
 },
 "nbformat": 4,
 "nbformat_minor": 2
}
